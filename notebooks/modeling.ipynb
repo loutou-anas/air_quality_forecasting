{
 "cells": [
  {
   "cell_type": "markdown",
   "metadata": {},
   "source": [
    "# 🤖 Model Building: Air Quality Forecasting\n",
    "This notebook builds and evaluates machine learning models to forecast pollutant concentrations."
   ]
  },
  {
   "cell_type": "code",
   "execution_count": 1,
   "metadata": {},
   "outputs": [],
   "source": [
    "# Imports\n",
    "import pandas as pd\n",
    "import numpy as np\n",
    "import matplotlib.pyplot as plt\n",
    "import seaborn as sns\n",
    "from sklearn.ensemble import RandomForestRegressor\n",
    "from sklearn.model_selection import train_test_split\n",
    "from sklearn.metrics import mean_squared_error, r2_score, mean_absolute_error\n",
    "import joblib\n",
    "%matplotlib inline"
   ]
  },
  {
   "cell_type": "code",
   "execution_count": 2,
   "metadata": {},
   "outputs": [
    {
     "data": {
      "application/vnd.microsoft.datawrangler.viewer.v0+json": {
       "columns": [
        {
         "name": "datetime",
         "rawType": "datetime64[ns]",
         "type": "datetime"
        },
        {
         "name": "CO(GT)",
         "rawType": "float64",
         "type": "float"
        },
        {
         "name": "PT08.S1(CO)",
         "rawType": "float64",
         "type": "float"
        },
        {
         "name": "NMHC(GT)",
         "rawType": "float64",
         "type": "float"
        },
        {
         "name": "C6H6(GT)",
         "rawType": "float64",
         "type": "float"
        },
        {
         "name": "PT08.S2(NMHC)",
         "rawType": "float64",
         "type": "float"
        },
        {
         "name": "NOx(GT)",
         "rawType": "float64",
         "type": "float"
        },
        {
         "name": "PT08.S3(NOx)",
         "rawType": "float64",
         "type": "float"
        },
        {
         "name": "NO2(GT)",
         "rawType": "float64",
         "type": "float"
        },
        {
         "name": "PT08.S4(NO2)",
         "rawType": "float64",
         "type": "float"
        },
        {
         "name": "PT08.S5(O3)",
         "rawType": "float64",
         "type": "float"
        },
        {
         "name": "T",
         "rawType": "float64",
         "type": "float"
        },
        {
         "name": "RH",
         "rawType": "float64",
         "type": "float"
        },
        {
         "name": "AH",
         "rawType": "float64",
         "type": "float"
        },
        {
         "name": "hour",
         "rawType": "float64",
         "type": "float"
        },
        {
         "name": "day",
         "rawType": "float64",
         "type": "float"
        },
        {
         "name": "weekday",
         "rawType": "float64",
         "type": "float"
        },
        {
         "name": "month",
         "rawType": "float64",
         "type": "float"
        },
        {
         "name": "CO(GT)_rolling3",
         "rawType": "float64",
         "type": "float"
        },
        {
         "name": "NOx(GT)_rolling3",
         "rawType": "float64",
         "type": "float"
        },
        {
         "name": "NO2(GT)_rolling3",
         "rawType": "float64",
         "type": "float"
        },
        {
         "name": "C6H6(GT)_rolling3",
         "rawType": "float64",
         "type": "float"
        },
        {
         "name": "CO(GT)_lag1",
         "rawType": "float64",
         "type": "float"
        },
        {
         "name": "NOx(GT)_lag1",
         "rawType": "float64",
         "type": "float"
        },
        {
         "name": "NO2(GT)_lag1",
         "rawType": "float64",
         "type": "float"
        },
        {
         "name": "C6H6(GT)_lag1",
         "rawType": "float64",
         "type": "float"
        }
       ],
       "ref": "4d1b7ebf-dbd7-42a6-b3a5-47550048412d",
       "rows": [
        [
         "2004-03-10 19:00:00",
         "2.0",
         "1292.0",
         "112.0",
         "9.4",
         "955.0",
         "103.0",
         "1174.0",
         "92.0",
         "1559.0",
         "972.0",
         "13.3",
         "47.7",
         "0.7255",
         "19.0",
         "10.0",
         "2.0",
         "3.0",
         "2.3",
         "134.5",
         "102.5",
         "10.65",
         "2.6",
         "166.0",
         "113.0",
         "11.9"
        ],
        [
         "2004-03-10 20:00:00",
         "2.2",
         "1402.0",
         "88.0",
         "9.0",
         "939.0",
         "131.0",
         "1140.0",
         "114.0",
         "1555.0",
         "1074.0",
         "11.9",
         "54.0",
         "0.7502",
         "20.0",
         "10.0",
         "2.0",
         "3.0",
         "2.266666666666667",
         "133.33333333333334",
         "106.33333333333331",
         "10.1",
         "2.0",
         "103.0",
         "92.0",
         "9.4"
        ],
        [
         "2004-03-10 21:00:00",
         "2.2",
         "1376.0",
         "80.0",
         "9.2",
         "948.0",
         "172.0",
         "1092.0",
         "122.0",
         "1584.0",
         "1203.0",
         "11.0",
         "60.0",
         "0.7867",
         "21.0",
         "10.0",
         "2.0",
         "3.0",
         "2.1333333333333333",
         "135.33333333333334",
         "109.33333333333331",
         "9.2",
         "2.2",
         "131.0",
         "114.0",
         "9.0"
        ],
        [
         "2004-03-10 22:00:00",
         "1.6",
         "1272.0",
         "51.0",
         "6.5",
         "836.0",
         "131.0",
         "1205.0",
         "116.0",
         "1490.0",
         "1110.0",
         "11.2",
         "59.6",
         "0.7888",
         "22.0",
         "10.0",
         "2.0",
         "3.0",
         "2.0000000000000004",
         "144.66666666666666",
         "117.33333333333331",
         "8.233333333333333",
         "2.2",
         "172.0",
         "122.0",
         "9.2"
        ],
        [
         "2004-03-10 23:00:00",
         "1.2",
         "1197.0",
         "38.0",
         "4.7",
         "750.0",
         "89.0",
         "1337.0",
         "96.0",
         "1393.0",
         "949.0",
         "11.2",
         "59.2",
         "0.7848",
         "23.0",
         "10.0",
         "2.0",
         "3.0",
         "1.6666666666666667",
         "130.66666666666666",
         "111.33333333333331",
         "6.8",
         "1.6",
         "131.0",
         "116.0",
         "6.5"
        ]
       ],
       "shape": {
        "columns": 25,
        "rows": 5
       }
      },
      "text/html": [
       "<div>\n",
       "<style scoped>\n",
       "    .dataframe tbody tr th:only-of-type {\n",
       "        vertical-align: middle;\n",
       "    }\n",
       "\n",
       "    .dataframe tbody tr th {\n",
       "        vertical-align: top;\n",
       "    }\n",
       "\n",
       "    .dataframe thead th {\n",
       "        text-align: right;\n",
       "    }\n",
       "</style>\n",
       "<table border=\"1\" class=\"dataframe\">\n",
       "  <thead>\n",
       "    <tr style=\"text-align: right;\">\n",
       "      <th></th>\n",
       "      <th>CO(GT)</th>\n",
       "      <th>PT08.S1(CO)</th>\n",
       "      <th>NMHC(GT)</th>\n",
       "      <th>C6H6(GT)</th>\n",
       "      <th>PT08.S2(NMHC)</th>\n",
       "      <th>NOx(GT)</th>\n",
       "      <th>PT08.S3(NOx)</th>\n",
       "      <th>NO2(GT)</th>\n",
       "      <th>PT08.S4(NO2)</th>\n",
       "      <th>PT08.S5(O3)</th>\n",
       "      <th>...</th>\n",
       "      <th>weekday</th>\n",
       "      <th>month</th>\n",
       "      <th>CO(GT)_rolling3</th>\n",
       "      <th>NOx(GT)_rolling3</th>\n",
       "      <th>NO2(GT)_rolling3</th>\n",
       "      <th>C6H6(GT)_rolling3</th>\n",
       "      <th>CO(GT)_lag1</th>\n",
       "      <th>NOx(GT)_lag1</th>\n",
       "      <th>NO2(GT)_lag1</th>\n",
       "      <th>C6H6(GT)_lag1</th>\n",
       "    </tr>\n",
       "    <tr>\n",
       "      <th>datetime</th>\n",
       "      <th></th>\n",
       "      <th></th>\n",
       "      <th></th>\n",
       "      <th></th>\n",
       "      <th></th>\n",
       "      <th></th>\n",
       "      <th></th>\n",
       "      <th></th>\n",
       "      <th></th>\n",
       "      <th></th>\n",
       "      <th></th>\n",
       "      <th></th>\n",
       "      <th></th>\n",
       "      <th></th>\n",
       "      <th></th>\n",
       "      <th></th>\n",
       "      <th></th>\n",
       "      <th></th>\n",
       "      <th></th>\n",
       "      <th></th>\n",
       "      <th></th>\n",
       "    </tr>\n",
       "  </thead>\n",
       "  <tbody>\n",
       "    <tr>\n",
       "      <th>2004-03-10 19:00:00</th>\n",
       "      <td>2.0</td>\n",
       "      <td>1292.0</td>\n",
       "      <td>112.0</td>\n",
       "      <td>9.4</td>\n",
       "      <td>955.0</td>\n",
       "      <td>103.0</td>\n",
       "      <td>1174.0</td>\n",
       "      <td>92.0</td>\n",
       "      <td>1559.0</td>\n",
       "      <td>972.0</td>\n",
       "      <td>...</td>\n",
       "      <td>2.0</td>\n",
       "      <td>3.0</td>\n",
       "      <td>2.300000</td>\n",
       "      <td>134.500000</td>\n",
       "      <td>102.500000</td>\n",
       "      <td>10.650000</td>\n",
       "      <td>2.6</td>\n",
       "      <td>166.0</td>\n",
       "      <td>113.0</td>\n",
       "      <td>11.9</td>\n",
       "    </tr>\n",
       "    <tr>\n",
       "      <th>2004-03-10 20:00:00</th>\n",
       "      <td>2.2</td>\n",
       "      <td>1402.0</td>\n",
       "      <td>88.0</td>\n",
       "      <td>9.0</td>\n",
       "      <td>939.0</td>\n",
       "      <td>131.0</td>\n",
       "      <td>1140.0</td>\n",
       "      <td>114.0</td>\n",
       "      <td>1555.0</td>\n",
       "      <td>1074.0</td>\n",
       "      <td>...</td>\n",
       "      <td>2.0</td>\n",
       "      <td>3.0</td>\n",
       "      <td>2.266667</td>\n",
       "      <td>133.333333</td>\n",
       "      <td>106.333333</td>\n",
       "      <td>10.100000</td>\n",
       "      <td>2.0</td>\n",
       "      <td>103.0</td>\n",
       "      <td>92.0</td>\n",
       "      <td>9.4</td>\n",
       "    </tr>\n",
       "    <tr>\n",
       "      <th>2004-03-10 21:00:00</th>\n",
       "      <td>2.2</td>\n",
       "      <td>1376.0</td>\n",
       "      <td>80.0</td>\n",
       "      <td>9.2</td>\n",
       "      <td>948.0</td>\n",
       "      <td>172.0</td>\n",
       "      <td>1092.0</td>\n",
       "      <td>122.0</td>\n",
       "      <td>1584.0</td>\n",
       "      <td>1203.0</td>\n",
       "      <td>...</td>\n",
       "      <td>2.0</td>\n",
       "      <td>3.0</td>\n",
       "      <td>2.133333</td>\n",
       "      <td>135.333333</td>\n",
       "      <td>109.333333</td>\n",
       "      <td>9.200000</td>\n",
       "      <td>2.2</td>\n",
       "      <td>131.0</td>\n",
       "      <td>114.0</td>\n",
       "      <td>9.0</td>\n",
       "    </tr>\n",
       "    <tr>\n",
       "      <th>2004-03-10 22:00:00</th>\n",
       "      <td>1.6</td>\n",
       "      <td>1272.0</td>\n",
       "      <td>51.0</td>\n",
       "      <td>6.5</td>\n",
       "      <td>836.0</td>\n",
       "      <td>131.0</td>\n",
       "      <td>1205.0</td>\n",
       "      <td>116.0</td>\n",
       "      <td>1490.0</td>\n",
       "      <td>1110.0</td>\n",
       "      <td>...</td>\n",
       "      <td>2.0</td>\n",
       "      <td>3.0</td>\n",
       "      <td>2.000000</td>\n",
       "      <td>144.666667</td>\n",
       "      <td>117.333333</td>\n",
       "      <td>8.233333</td>\n",
       "      <td>2.2</td>\n",
       "      <td>172.0</td>\n",
       "      <td>122.0</td>\n",
       "      <td>9.2</td>\n",
       "    </tr>\n",
       "    <tr>\n",
       "      <th>2004-03-10 23:00:00</th>\n",
       "      <td>1.2</td>\n",
       "      <td>1197.0</td>\n",
       "      <td>38.0</td>\n",
       "      <td>4.7</td>\n",
       "      <td>750.0</td>\n",
       "      <td>89.0</td>\n",
       "      <td>1337.0</td>\n",
       "      <td>96.0</td>\n",
       "      <td>1393.0</td>\n",
       "      <td>949.0</td>\n",
       "      <td>...</td>\n",
       "      <td>2.0</td>\n",
       "      <td>3.0</td>\n",
       "      <td>1.666667</td>\n",
       "      <td>130.666667</td>\n",
       "      <td>111.333333</td>\n",
       "      <td>6.800000</td>\n",
       "      <td>1.6</td>\n",
       "      <td>131.0</td>\n",
       "      <td>116.0</td>\n",
       "      <td>6.5</td>\n",
       "    </tr>\n",
       "  </tbody>\n",
       "</table>\n",
       "<p>5 rows × 25 columns</p>\n",
       "</div>"
      ],
      "text/plain": [
       "                     CO(GT)  PT08.S1(CO)  NMHC(GT)  C6H6(GT)  PT08.S2(NMHC)  \\\n",
       "datetime                                                                      \n",
       "2004-03-10 19:00:00     2.0       1292.0     112.0       9.4          955.0   \n",
       "2004-03-10 20:00:00     2.2       1402.0      88.0       9.0          939.0   \n",
       "2004-03-10 21:00:00     2.2       1376.0      80.0       9.2          948.0   \n",
       "2004-03-10 22:00:00     1.6       1272.0      51.0       6.5          836.0   \n",
       "2004-03-10 23:00:00     1.2       1197.0      38.0       4.7          750.0   \n",
       "\n",
       "                     NOx(GT)  PT08.S3(NOx)  NO2(GT)  PT08.S4(NO2)  \\\n",
       "datetime                                                            \n",
       "2004-03-10 19:00:00    103.0        1174.0     92.0        1559.0   \n",
       "2004-03-10 20:00:00    131.0        1140.0    114.0        1555.0   \n",
       "2004-03-10 21:00:00    172.0        1092.0    122.0        1584.0   \n",
       "2004-03-10 22:00:00    131.0        1205.0    116.0        1490.0   \n",
       "2004-03-10 23:00:00     89.0        1337.0     96.0        1393.0   \n",
       "\n",
       "                     PT08.S5(O3)  ...  weekday  month  CO(GT)_rolling3  \\\n",
       "datetime                          ...                                    \n",
       "2004-03-10 19:00:00        972.0  ...      2.0    3.0         2.300000   \n",
       "2004-03-10 20:00:00       1074.0  ...      2.0    3.0         2.266667   \n",
       "2004-03-10 21:00:00       1203.0  ...      2.0    3.0         2.133333   \n",
       "2004-03-10 22:00:00       1110.0  ...      2.0    3.0         2.000000   \n",
       "2004-03-10 23:00:00        949.0  ...      2.0    3.0         1.666667   \n",
       "\n",
       "                     NOx(GT)_rolling3  NO2(GT)_rolling3  C6H6(GT)_rolling3  \\\n",
       "datetime                                                                     \n",
       "2004-03-10 19:00:00        134.500000        102.500000          10.650000   \n",
       "2004-03-10 20:00:00        133.333333        106.333333          10.100000   \n",
       "2004-03-10 21:00:00        135.333333        109.333333           9.200000   \n",
       "2004-03-10 22:00:00        144.666667        117.333333           8.233333   \n",
       "2004-03-10 23:00:00        130.666667        111.333333           6.800000   \n",
       "\n",
       "                     CO(GT)_lag1  NOx(GT)_lag1  NO2(GT)_lag1  C6H6(GT)_lag1  \n",
       "datetime                                                                     \n",
       "2004-03-10 19:00:00          2.6         166.0         113.0           11.9  \n",
       "2004-03-10 20:00:00          2.0         103.0          92.0            9.4  \n",
       "2004-03-10 21:00:00          2.2         131.0         114.0            9.0  \n",
       "2004-03-10 22:00:00          2.2         172.0         122.0            9.2  \n",
       "2004-03-10 23:00:00          1.6         131.0         116.0            6.5  \n",
       "\n",
       "[5 rows x 25 columns]"
      ]
     },
     "execution_count": 2,
     "metadata": {},
     "output_type": "execute_result"
    }
   ],
   "source": [
    "# Load the processed data\n",
    "df = pd.read_csv('E:/air_quality_forecasting/data/processed_air_quality.csv', parse_dates=['datetime'])\n",
    "df.set_index('datetime', inplace=True)\n",
    "df.head()"
   ]
  },
  {
   "cell_type": "markdown",
   "metadata": {},
   "source": [
    "## 🎯 Define Target and Features"
   ]
  },
  {
   "cell_type": "code",
   "execution_count": 3,
   "metadata": {},
   "outputs": [],
   "source": [
    "# Forecasting CO(GT) as the target variable\n",
    "target = 'CO(GT)'\n",
    "features = df.drop(columns=[target]).select_dtypes(include=[np.number]).columns.tolist()\n",
    "\n",
    "X = df[features]\n",
    "y = df[target]\n",
    "\n",
    "X_train, X_test, y_train, y_test = train_test_split(X, y, test_size=0.2, shuffle=False)"
   ]
  },
  {
   "cell_type": "markdown",
   "metadata": {},
   "source": [
    "## 🏗️ Train Model"
   ]
  },
  {
   "cell_type": "code",
   "execution_count": 4,
   "metadata": {},
   "outputs": [],
   "source": [
    "model = RandomForestRegressor(n_estimators=100, random_state=42)\n",
    "model.fit(X_train, y_train)\n",
    "y_pred = model.predict(X_test)"
   ]
  },
  {
   "cell_type": "markdown",
   "metadata": {},
   "source": [
    "## 📈 Evaluate Model"
   ]
  },
  {
   "cell_type": "code",
   "execution_count": 5,
   "metadata": {},
   "outputs": [
    {
     "name": "stdout",
     "output_type": "stream",
     "text": [
      "MAE: 0.254\n",
      "RMSE: 0.333\n",
      "R²: 0.943\n"
     ]
    }
   ],
   "source": [
    "print(f\"MAE: {mean_absolute_error(y_test, y_pred):.3f}\")\n",
    "print(f\"RMSE: {mean_squared_error(y_test, y_pred) ** 0.5:.3f}\")\n",
    "print(f\"R²: {r2_score(y_test, y_pred):.3f}\")"
   ]
  },
  {
   "cell_type": "markdown",
   "metadata": {},
   "source": [
    "## 💾 Save Model"
   ]
  },
  {
   "cell_type": "code",
   "execution_count": 6,
   "metadata": {},
   "outputs": [
    {
     "name": "stdout",
     "output_type": "stream",
     "text": [
      "Model saved successfully ✅\n"
     ]
    }
   ],
   "source": [
    "import os\n",
    "os.makedirs('E:/air_quality_forecasting/models', exist_ok=True)\n",
    "joblib.dump(model, 'E:/air_quality_forecasting/models/co_forecast_model.pkl')\n",
    "print(\"Model saved successfully ✅\")"
   ]
  }
 ],
 "metadata": {
  "kernelspec": {
   "display_name": ".venv",
   "language": "python",
   "name": "python3"
  },
  "language_info": {
   "codemirror_mode": {
    "name": "ipython",
    "version": 3
   },
   "file_extension": ".py",
   "mimetype": "text/x-python",
   "name": "python",
   "nbconvert_exporter": "python",
   "pygments_lexer": "ipython3",
   "version": "3.11.9"
  }
 },
 "nbformat": 4,
 "nbformat_minor": 5
}
